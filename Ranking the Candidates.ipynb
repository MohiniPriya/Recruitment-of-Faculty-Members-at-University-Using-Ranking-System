{
 "cells": [
  {
   "cell_type": "code",
   "execution_count": 2,
   "metadata": {},
   "outputs": [],
   "source": [
    "import numpy as np\n",
    "import csv\n",
    "import pandas as pd"
   ]
  },
  {
   "cell_type": "code",
   "execution_count": 3,
   "metadata": {},
   "outputs": [
    {
     "name": "stdout",
     "output_type": "stream",
     "text": [
      "['final_file']\n"
     ]
    }
   ],
   "source": [
    "#loading merged final data prepared using Knime\n",
    "merged_file = 'C:/Users/Data/Final_File_with SJR.xlsx'\n",
    "\n",
    "# Load spreadsheet\n",
    "x3 = pd.ExcelFile(merged_file)\n",
    "print(x3.sheet_names)\n",
    "  "
   ]
  },
  {
   "cell_type": "code",
   "execution_count": 4,
   "metadata": {},
   "outputs": [],
   "source": [
    "df_merged3 = x3.parse('final_file')#parse"
   ]
  },
  {
   "cell_type": "code",
   "execution_count": 5,
   "metadata": {},
   "outputs": [
    {
     "data": {
      "text/html": [
       "<div>\n",
       "<style scoped>\n",
       "    .dataframe tbody tr th:only-of-type {\n",
       "        vertical-align: middle;\n",
       "    }\n",
       "\n",
       "    .dataframe tbody tr th {\n",
       "        vertical-align: top;\n",
       "    }\n",
       "\n",
       "    .dataframe thead th {\n",
       "        text-align: right;\n",
       "    }\n",
       "</style>\n",
       "<table border=\"1\" class=\"dataframe\">\n",
       "  <thead>\n",
       "    <tr style=\"text-align: right;\">\n",
       "      <th></th>\n",
       "      <th>Journal</th>\n",
       "      <th>Article</th>\n",
       "      <th>Author</th>\n",
       "      <th>Author Number</th>\n",
       "      <th>SJR</th>\n",
       "    </tr>\n",
       "  </thead>\n",
       "  <tbody>\n",
       "    <tr>\n",
       "      <th>0</th>\n",
       "      <td>Molecular Autism</td>\n",
       "      <td>Statistical analysis of twenty years (1993 to ...</td>\n",
       "      <td>Zhou, Wei-Zhen</td>\n",
       "      <td>1</td>\n",
       "      <td>2.753</td>\n",
       "    </tr>\n",
       "    <tr>\n",
       "      <th>1</th>\n",
       "      <td>Molecular Autism</td>\n",
       "      <td>Statistical analysis of twenty years (1993 to ...</td>\n",
       "      <td>Ye, Adam Yongxin</td>\n",
       "      <td>2</td>\n",
       "      <td>2.753</td>\n",
       "    </tr>\n",
       "    <tr>\n",
       "      <th>2</th>\n",
       "      <td>Molecular Autism</td>\n",
       "      <td>Statistical analysis of twenty years (1993 to ...</td>\n",
       "      <td>Sun, Zhong-Kai</td>\n",
       "      <td>3</td>\n",
       "      <td>2.753</td>\n",
       "    </tr>\n",
       "    <tr>\n",
       "      <th>3</th>\n",
       "      <td>Molecular Autism</td>\n",
       "      <td>Gene expression analysis of human induced plur...</td>\n",
       "      <td>Germain, Noelle D</td>\n",
       "      <td>1</td>\n",
       "      <td>2.753</td>\n",
       "    </tr>\n",
       "    <tr>\n",
       "      <th>4</th>\n",
       "      <td>Molecular Autism</td>\n",
       "      <td>Gene expression analysis of human induced plur...</td>\n",
       "      <td>Chen, Pin-Fang</td>\n",
       "      <td>2</td>\n",
       "      <td>2.753</td>\n",
       "    </tr>\n",
       "  </tbody>\n",
       "</table>\n",
       "</div>"
      ],
      "text/plain": [
       "            Journal                                            Article  \\\n",
       "0  Molecular Autism  Statistical analysis of twenty years (1993 to ...   \n",
       "1  Molecular Autism  Statistical analysis of twenty years (1993 to ...   \n",
       "2  Molecular Autism  Statistical analysis of twenty years (1993 to ...   \n",
       "3  Molecular Autism  Gene expression analysis of human induced plur...   \n",
       "4  Molecular Autism  Gene expression analysis of human induced plur...   \n",
       "\n",
       "              Author  Author Number    SJR  \n",
       "0     Zhou, Wei-Zhen              1  2.753  \n",
       "1   Ye, Adam Yongxin              2  2.753  \n",
       "2     Sun, Zhong-Kai              3  2.753  \n",
       "3  Germain, Noelle D              1  2.753  \n",
       "4     Chen, Pin-Fang              2  2.753  "
      ]
     },
     "execution_count": 5,
     "metadata": {},
     "output_type": "execute_result"
    }
   ],
   "source": [
    "df_merged3.head()#structure of the data"
   ]
  },
  {
   "cell_type": "code",
   "execution_count": 6,
   "metadata": {},
   "outputs": [
    {
     "data": {
      "text/plain": [
       "array(['Zhou, Wei-Zhen', 'Ye, Adam Yongxin', 'Sun, Zhong-Kai', ...,\n",
       "       'Bal, Matthieu', 'Zaorsky, Nicholas G', 'Zhou, Fei'], dtype=object)"
      ]
     },
     "execution_count": 6,
     "metadata": {},
     "output_type": "execute_result"
    }
   ],
   "source": [
    "#as we need to identify total score an dthen top 10 scores for authors. We need to identify unique author names first\n",
    "#storing distinct author names in an array\n",
    "Distinct_author = df_merged3['Author'].unique()\n",
    "Distinct_author"
   ]
  },
  {
   "cell_type": "code",
   "execution_count": 7,
   "metadata": {},
   "outputs": [
    {
     "data": {
      "text/html": [
       "<div>\n",
       "<style scoped>\n",
       "    .dataframe tbody tr th:only-of-type {\n",
       "        vertical-align: middle;\n",
       "    }\n",
       "\n",
       "    .dataframe tbody tr th {\n",
       "        vertical-align: top;\n",
       "    }\n",
       "\n",
       "    .dataframe thead th {\n",
       "        text-align: right;\n",
       "    }\n",
       "</style>\n",
       "<table border=\"1\" class=\"dataframe\">\n",
       "  <thead>\n",
       "    <tr style=\"text-align: right;\">\n",
       "      <th></th>\n",
       "      <th></th>\n",
       "      <th></th>\n",
       "      <th></th>\n",
       "      <th></th>\n",
       "      <th>Author Number</th>\n",
       "    </tr>\n",
       "    <tr>\n",
       "      <th>Author</th>\n",
       "      <th>Article</th>\n",
       "      <th>Journal</th>\n",
       "      <th>Author Number</th>\n",
       "      <th>SJR</th>\n",
       "      <th></th>\n",
       "    </tr>\n",
       "  </thead>\n",
       "  <tbody>\n",
       "    <tr>\n",
       "      <th>Aagaard, Kjersti</th>\n",
       "      <th>Microbiome: Antibiotics and the infant microflora.</th>\n",
       "      <th>Nature Reviews Microbiology</th>\n",
       "      <th>2</th>\n",
       "      <th>16.373</th>\n",
       "      <td>1</td>\n",
       "    </tr>\n",
       "    <tr>\n",
       "      <th>Abate-Shen, Cory</th>\n",
       "      <th>Optimizing mouse models for precision cancer prevention.</th>\n",
       "      <th>Nature Reviews Cancer</th>\n",
       "      <th>3</th>\n",
       "      <th>25.467</th>\n",
       "      <td>1</td>\n",
       "    </tr>\n",
       "    <tr>\n",
       "      <th>Abdel-Wahab, Omar</th>\n",
       "      <th>RNA splicing factors as oncoproteins and tumour suppressors.</th>\n",
       "      <th>Nature Reviews Cancer</th>\n",
       "      <th>3</th>\n",
       "      <th>25.467</th>\n",
       "      <td>1</td>\n",
       "    </tr>\n",
       "    <tr>\n",
       "      <th>Abrahams, Katherine A</th>\n",
       "      <th>THPP target assignment reveals EchA6 as an essential fatty acid shuttle in mycobacteria.</th>\n",
       "      <th>Nature Reviews Microbiology</th>\n",
       "      <th>2</th>\n",
       "      <th>16.373</th>\n",
       "      <td>1</td>\n",
       "    </tr>\n",
       "    <tr>\n",
       "      <th>Abt, Birte</th>\n",
       "      <th>Corrigendum: The Mouse Intestinal Bacterial Collection (miBC) provides host-specific insight into cultured diversity and functional potential of the gut microbiota.</th>\n",
       "      <th>Nature Reviews Microbiology</th>\n",
       "      <th>3</th>\n",
       "      <th>16.373</th>\n",
       "      <td>1</td>\n",
       "    </tr>\n",
       "  </tbody>\n",
       "</table>\n",
       "</div>"
      ],
      "text/plain": [
       "                                                                                                                           Author Number\n",
       "Author                Article                                            Journal                     Author Number SJR                  \n",
       "Aagaard, Kjersti      Microbiome: Antibiotics and the infant microflora. Nature Reviews Microbiology 2             16.373              1\n",
       "Abate-Shen, Cory      Optimizing mouse models for precision cancer pr... Nature Reviews Cancer       3             25.467              1\n",
       "Abdel-Wahab, Omar     RNA splicing factors as oncoproteins and tumour... Nature Reviews Cancer       3             25.467              1\n",
       "Abrahams, Katherine A THPP target assignment reveals EchA6 as an esse... Nature Reviews Microbiology 2             16.373              1\n",
       "Abt, Birte            Corrigendum: The Mouse Intestinal Bacterial Col... Nature Reviews Microbiology 3             16.373              1"
      ]
     },
     "execution_count": 7,
     "metadata": {},
     "output_type": "execute_result"
    }
   ],
   "source": [
    "#grouping by and count on Author Number to calculate ranking furher using SJR\n",
    "df3_group_1 = pd.DataFrame(df_merged3.groupby(['Author', 'Article','Journal','Author Number','SJR'])['Author Number'].count())\n",
    "(df3_group_1.head())"
   ]
  },
  {
   "cell_type": "code",
   "execution_count": 8,
   "metadata": {},
   "outputs": [],
   "source": [
    "# to avoid confusion the column is set as Article count\n",
    "df3_group_1.columns = ['Article Count']\n"
   ]
  },
  {
   "cell_type": "code",
   "execution_count": 9,
   "metadata": {},
   "outputs": [
    {
     "data": {
      "text/plain": [
       "3869"
      ]
     },
     "execution_count": 9,
     "metadata": {},
     "output_type": "execute_result"
    }
   ],
   "source": [
    "#resetting the index\n",
    "df3_group_1.reset_index(inplace=True)\n",
    "df3_group_1.head()\n",
    "len(df3_group_1)"
   ]
  },
  {
   "cell_type": "code",
   "execution_count": 10,
   "metadata": {},
   "outputs": [],
   "source": [
    "#calculating ranking based on the gievn default formula\n",
    "#first creating data frame for total score of each author\n",
    "#after that we us efor loop to calculate ranking of each author.\n",
    "overall_sjr_ranking = pd.DataFrame(data=None)\n",
    "for author in Distinct_author:\n",
    "    ranking = 0\n",
    "    #df_merged3\n",
    "    first_rank = df3_group_1[df3_group_1['Author'] == author]; first_rank = first_rank[first_rank['Author Number'] == 1]\n",
    "    ranking = first_rank['SJR'].max() if len(first_rank) >=1 else ranking\n",
    "    second_rank = df3_group_1[df3_group_1['Author'] == author]; second_rank = second_rank[second_rank['Author Number'] == 2]\n",
    "    ranking = second_rank['SJR'].max() if len(second_rank) >=1 else ranking\n",
    "    third_rank = df3_group_1[df3_group_1['Author'] == author]; third_rank = third_rank[third_rank['Author Number'] == 3]\n",
    "    ranking = third_rank['SJR'].max() if len(third_rank) >=1 else ranking\n",
    "    ranking = (ranking* len(first_rank)) + (ranking* len(second_rank) * (1/3)) + (ranking* len(third_rank) * (1/3)) \n",
    "   \n",
    "    overall_sjr_ranking = overall_sjr_ranking.append(pd.DataFrame(data=[[author, ranking]], columns=['Authors','Author Ranking']))\n",
    "    overall_sjr_ranking.sort_values('Author Ranking', ascending=False)   "
   ]
  },
  {
   "cell_type": "code",
   "execution_count": 118,
   "metadata": {},
   "outputs": [
    {
     "data": {
      "text/html": [
       "<div>\n",
       "<style scoped>\n",
       "    .dataframe tbody tr th:only-of-type {\n",
       "        vertical-align: middle;\n",
       "    }\n",
       "\n",
       "    .dataframe tbody tr th {\n",
       "        vertical-align: top;\n",
       "    }\n",
       "\n",
       "    .dataframe thead th {\n",
       "        text-align: right;\n",
       "    }\n",
       "</style>\n",
       "<table border=\"1\" class=\"dataframe\">\n",
       "  <thead>\n",
       "    <tr style=\"text-align: right;\">\n",
       "      <th></th>\n",
       "      <th>Authors</th>\n",
       "      <th>Author Ranking</th>\n",
       "    </tr>\n",
       "  </thead>\n",
       "  <tbody>\n",
       "    <tr>\n",
       "      <th>0</th>\n",
       "      <td>Zlotorynski, Eytan</td>\n",
       "      <td>1843.968</td>\n",
       "    </tr>\n",
       "    <tr>\n",
       "      <th>0</th>\n",
       "      <td>Seton-Rogers, Sarah</td>\n",
       "      <td>1536.509</td>\n",
       "    </tr>\n",
       "    <tr>\n",
       "      <th>0</th>\n",
       "      <td>Baumann, Kim</td>\n",
       "      <td>1492.736</td>\n",
       "    </tr>\n",
       "    <tr>\n",
       "      <th>0</th>\n",
       "      <td>Strzyz, Paulina</td>\n",
       "      <td>856.128</td>\n",
       "    </tr>\n",
       "    <tr>\n",
       "      <th>0</th>\n",
       "      <td>Wrighton, Katharine H</td>\n",
       "      <td>856.128</td>\n",
       "    </tr>\n",
       "    <tr>\n",
       "      <th>0</th>\n",
       "      <td>Alderton, Gemma K</td>\n",
       "      <td>814.944</td>\n",
       "    </tr>\n",
       "    <tr>\n",
       "      <th>0</th>\n",
       "      <td>Minton, Kirsty</td>\n",
       "      <td>790.272</td>\n",
       "    </tr>\n",
       "    <tr>\n",
       "      <th>0</th>\n",
       "      <td>Villanueva, M Teresa</td>\n",
       "      <td>687.609</td>\n",
       "    </tr>\n",
       "    <tr>\n",
       "      <th>0</th>\n",
       "      <td>Du Toit, Andrea</td>\n",
       "      <td>625.632</td>\n",
       "    </tr>\n",
       "    <tr>\n",
       "      <th>0</th>\n",
       "      <td>McCarthy, Nicola</td>\n",
       "      <td>585.741</td>\n",
       "    </tr>\n",
       "  </tbody>\n",
       "</table>\n",
       "</div>"
      ],
      "text/plain": [
       "                 Authors  Author Ranking\n",
       "0     Zlotorynski, Eytan        1843.968\n",
       "0    Seton-Rogers, Sarah        1536.509\n",
       "0           Baumann, Kim        1492.736\n",
       "0        Strzyz, Paulina         856.128\n",
       "0  Wrighton, Katharine H         856.128\n",
       "0      Alderton, Gemma K         814.944\n",
       "0         Minton, Kirsty         790.272\n",
       "0   Villanueva, M Teresa         687.609\n",
       "0        Du Toit, Andrea         625.632\n",
       "0       McCarthy, Nicola         585.741"
      ]
     },
     "execution_count": 118,
     "metadata": {},
     "output_type": "execute_result"
    }
   ],
   "source": [
    "#Top 10 ranking of authors\n",
    "overall_sjr_ranking.sort_values('Author Ranking', ascending=False).head(10)"
   ]
  },
  {
   "cell_type": "code",
   "execution_count": 11,
   "metadata": {},
   "outputs": [],
   "source": [
    " overall_sjr_ranking =overall_sjr_ranking.sort_values('Author Ranking', ascending=False) "
   ]
  },
  {
   "cell_type": "code",
   "execution_count": 12,
   "metadata": {},
   "outputs": [],
   "source": [
    "# Create a Pandas Excel writer using XlsxWriter as the engine.\n",
    "writer = pd.ExcelWriter('C:/Users/Data/all_author_score.xlsx', engine='xlsxwriter')\n",
    "\n",
    "# Convert the dataframe to an XlsxWriter Excel object.\n",
    "overall_sjr_ranking.to_excel(writer, sheet_name='Sheet1')\n",
    "\n",
    "# Close the Pandas Excel writer and output the Excel file.\n",
    "writer.save()"
   ]
  },
  {
   "cell_type": "code",
   "execution_count": null,
   "metadata": {},
   "outputs": [],
   "source": []
  }
 ],
 "metadata": {
  "kernelspec": {
   "display_name": "Python 3",
   "language": "python",
   "name": "python3"
  },
  "language_info": {
   "codemirror_mode": {
    "name": "ipython",
    "version": 3
   },
   "file_extension": ".py",
   "mimetype": "text/x-python",
   "name": "python",
   "nbconvert_exporter": "python",
   "pygments_lexer": "ipython3",
   "version": "3.7.1"
  }
 },
 "nbformat": 4,
 "nbformat_minor": 2
}
